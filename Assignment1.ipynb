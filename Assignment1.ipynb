{
  "nbformat": 4,
  "nbformat_minor": 0,
  "metadata": {
    "colab": {
      "name": "Untitled0.ipynb",
      "provenance": [],
      "authorship_tag": "ABX9TyM7S/6cK4dcLEg518DWaJ+l",
      "include_colab_link": true
    },
    "kernelspec": {
      "name": "python3",
      "display_name": "Python 3"
    }
  },
  "cells": [
    {
      "cell_type": "markdown",
      "metadata": {
        "id": "view-in-github",
        "colab_type": "text"
      },
      "source": [
        "<a href=\"https://colab.research.google.com/github/Ankita-dotcom/18cse083/blob/main/Assignment1.ipynb\" target=\"_parent\"><img src=\"https://colab.research.google.com/assets/colab-badge.svg\" alt=\"Open In Colab\"/></a>"
      ]
    },
    {
      "cell_type": "code",
      "metadata": {
        "id": "fH-DL5WWqefN",
        "outputId": "7bdc7643-6c37-4acc-d3b8-cad9e3118887",
        "colab": {
          "base_uri": "https://localhost:8080/"
        }
      },
      "source": [
        "import numpy as np\n",
        "from scipy import stats\n",
        "\n",
        "dataset= [10,10,23,34,46,61,18]\n",
        "\n",
        "\n",
        "mean= np.mean(dataset)\n",
        "\n",
        "median = np.median(dataset)\n",
        "\n",
        "mode= stats.mode(dataset)\n",
        "\n",
        "print(\"Mean: \", mean)\n",
        "print(\"Median: \", median)\n",
        "print(\"Mode: \", mode)"
      ],
      "execution_count": 1,
      "outputs": [
        {
          "output_type": "stream",
          "text": [
            "Mean:  28.857142857142858\n",
            "Median:  23.0\n",
            "Mode:  ModeResult(mode=array([10]), count=array([2]))\n"
          ],
          "name": "stdout"
        }
      ]
    },
    {
      "cell_type": "code",
      "metadata": {
        "id": "ZT9yOMMDrJhp",
        "outputId": "1bac2fdc-35ca-4255-94c3-0330a1390c02",
        "colab": {
          "base_uri": "https://localhost:8080/"
        }
      },
      "source": [
        "from collections import Counter \n",
        "n_num = [21, 21, 35, 48, 83] \n",
        "def mean(n_num):\n",
        "  n = len(n_num) \n",
        "\n",
        "  get_sum = sum(n_num) \n",
        "  mean = get_sum / n \n",
        "\n",
        "  print(\"Mean / Average is: \" + str(mean)) \n",
        "def Median(n_num):\n",
        "  n_num = [21, 21, 35, 48, 83] \n",
        "  n = len(n_num) \n",
        "  n_num.sort() \n",
        "\n",
        "  if n % 2 == 0: \n",
        "    median1 = n_num[n//2] \n",
        "    median2 = n_num[n//2 - 1] \n",
        "    median = (median1 + median2)/2\n",
        "  else: \n",
        "    median = n_num[n//2] \n",
        "  print(\"Median is: \" + str(median)) \n",
        "\n",
        "def mode(n_num):\n",
        "  n = len(n_num) \n",
        "\n",
        "  data = Counter(n_num) \n",
        "  get_mode = dict(data)\n",
        "  mode = [k for k, v in get_mode.items() if v == max(list(data.values()))] \n",
        "\n",
        "  if len(mode) == n: \n",
        "    get_mode = \"No mode found\"\n",
        "  else: \n",
        "    get_mode = \"Mode is / are: \" + ', '.join(map(str, mode)) \n",
        "    \n",
        "  print(get_mode) \n",
        "mean(n_num)\n",
        "Median(n_num)\n",
        "n_num = [21, 21, 35, 48, 83] \n",
        "mode(n_num) "
      ],
      "execution_count": 2,
      "outputs": [
        {
          "output_type": "stream",
          "text": [
            "Mean / Average is: 41.6\n",
            "Median is: 35\n",
            "Mode is / are: 21\n"
          ],
          "name": "stdout"
        }
      ]
    },
    {
      "cell_type": "code",
      "metadata": {
        "id": "duRc3tZYrSCM",
        "outputId": "05954490-14cf-421a-ea39-5c051dbe2807",
        "colab": {
          "base_uri": "https://localhost:8080/"
        }
      },
      "source": [
        "def lcm(x, y):  \n",
        "   if x > y:  \n",
        "       greater = x  \n",
        "   else:  \n",
        "       greater = y  \n",
        "       while(True):  \n",
        "              if((greater % x == 0) and (greater % y == 0)):  \n",
        "                    lcm = greater  \n",
        "              break  \n",
        "       greater += 1  \n",
        "       return lcm  \n",
        "  \n",
        "  \n",
        "num1 = int(input(\"Enter first number: \"))  \n",
        "num2 = int(input(\"Enter second number: \"))  \n",
        "print(\"The L.C.M. of\", num1,\"and\", num2,\"is\", lcm(num1, num2))  "
      ],
      "execution_count": 3,
      "outputs": [
        {
          "output_type": "stream",
          "text": [
            "Enter first number: 2\n",
            "Enter second number: 2\n",
            "The L.C.M. of 2 and 2 is 2\n"
          ],
          "name": "stdout"
        }
      ]
    },
    {
      "cell_type": "code",
      "metadata": {
        "id": "HXKkisXvrbXu",
        "outputId": "fb92a1d8-939a-4fbb-ef5c-b19e3264de31",
        "colab": {
          "base_uri": "https://localhost:8080/"
        }
      },
      "source": [
        "def variance(data):\n",
        "     n = len(data)\n",
        "     \n",
        "     mean = sum(data) / n\n",
        "     \n",
        "     deviations = [(x - mean) ** 2 for x in data]\n",
        "    \n",
        "     variance = sum(deviations) / n\n",
        "     print(\"variance: \",variance) \n",
        "\n",
        "\n",
        "\n",
        "def Stdv(test_list):\n",
        "  print(\"The original list : \" + str(test_list)) \n",
        "  mean = sum(test_list) / len(test_list) \n",
        "  variance = sum([((x - mean) ** 2) for x in test_list]) / len(test_list) \n",
        "  res = variance ** 0.5\n",
        "  print(\"Standard deviation of sample is : \" + str(res)) \n",
        "test_list = [12, 25, 48, 66, 10] \n",
        "variance(test_list)\n",
        "Stdv(test_list)"
      ],
      "execution_count": 4,
      "outputs": [
        {
          "output_type": "stream",
          "text": [
            "variance:  468.96000000000004\n",
            "The original list : [12, 25, 48, 66, 10]\n",
            "Standard deviation of sample is : 21.655484293822663\n"
          ],
          "name": "stdout"
        }
      ]
    }
  ]
}